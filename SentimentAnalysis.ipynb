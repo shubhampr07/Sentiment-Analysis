{
 "cells": [
  {
   "cell_type": "code",
   "execution_count": 26,
   "id": "bb048a3b-51ee-4f6e-b0a8-f305e77ba91a",
   "metadata": {},
   "outputs": [
    {
     "data": {
      "text/html": [
       "        <script type=\"text/javascript\">\n",
       "        window.PlotlyConfig = {MathJaxConfig: 'local'};\n",
       "        if (window.MathJax && window.MathJax.Hub && window.MathJax.Hub.Config) {window.MathJax.Hub.Config({SVG: {font: \"STIX-Web\"}});}\n",
       "        if (typeof require !== 'undefined') {\n",
       "        require.undef(\"plotly\");\n",
       "        requirejs.config({\n",
       "            paths: {\n",
       "                'plotly': ['https://cdn.plot.ly/plotly-2.25.2.min']\n",
       "            }\n",
       "        });\n",
       "        require(['plotly'], function(Plotly) {\n",
       "            window._Plotly = Plotly;\n",
       "        });\n",
       "        }\n",
       "        </script>\n",
       "        "
      ]
     },
     "metadata": {},
     "output_type": "display_data"
    },
    {
     "data": {
      "text/html": [
       "        <script type=\"text/javascript\">\n",
       "        window.PlotlyConfig = {MathJaxConfig: 'local'};\n",
       "        if (window.MathJax && window.MathJax.Hub && window.MathJax.Hub.Config) {window.MathJax.Hub.Config({SVG: {font: \"STIX-Web\"}});}\n",
       "        if (typeof require !== 'undefined') {\n",
       "        require.undef(\"plotly\");\n",
       "        requirejs.config({\n",
       "            paths: {\n",
       "                'plotly': ['https://cdn.plot.ly/plotly-2.25.2.min']\n",
       "            }\n",
       "        });\n",
       "        require(['plotly'], function(Plotly) {\n",
       "            window._Plotly = Plotly;\n",
       "        });\n",
       "        }\n",
       "        </script>\n",
       "        "
      ]
     },
     "metadata": {},
     "output_type": "display_data"
    }
   ],
   "source": [
    "import numpy as np\n",
    "import pandas as pd\n",
    "import nltk\n",
    "from nltk.sentiment.vader import SentimentIntensityAnalyzer\n",
    "import re\n",
    "from textblob import TextBlob\n",
    "from wordcloud import WordCloud\n",
    "import seaborn as sns\n",
    "import matplotlib.pyplot as plt\n",
    "import cufflinks as cf\n",
    "%matplotlib inline\n",
    "from plotly.offline import init_notebook_mode, iplot\n",
    "init_notebook_mode(connected = True)\n",
    "cf.go_offline();\n",
    "import plotly.graph_objs as go\n",
    "from plotly.subplots import make_subplots\n",
    "\n",
    "import warnings\n",
    "warnings.filterwarnings(\"ignore\")\n",
    "warnings.warn(\"this will not show\")\n",
    "\n",
    "pd.set_option('display.max_columns', None)"
   ]
  },
  {
   "cell_type": "code",
   "execution_count": null,
   "id": "d13c338e-2613-4ee4-838c-80a019505c44",
   "metadata": {},
   "outputs": [],
   "source": [
    "df = pd.read_csv(\"amazon.csv\")"
   ]
  },
  {
   "cell_type": "code",
   "execution_count": null,
   "id": "3b0fef53-8a64-408f-8662-a5684b131eb0",
   "metadata": {},
   "outputs": [],
   "source": [
    "df.head()"
   ]
  },
  {
   "cell_type": "code",
   "execution_count": null,
   "id": "2300fb49-2fc0-4e96-889c-ee95cebf2c13",
   "metadata": {},
   "outputs": [],
   "source": [
    "df"
   ]
  },
  {
   "cell_type": "code",
   "execution_count": null,
   "id": "91f2dd6e-0ddb-41b0-afc4-3ee2c1970f0c",
   "metadata": {},
   "outputs": [],
   "source": [
    "df = df.sort_values(\"wilson_lower_bound\", ascending = False)\n",
    "df.drop('Unnamed: 0', inplace = True, axis = 1)\n",
    "df.head()"
   ]
  },
  {
   "cell_type": "code",
   "execution_count": null,
   "id": "aa550c64-571c-484e-bc4c-237d218f32d5",
   "metadata": {},
   "outputs": [],
   "source": [
    "def missing_values_analysis(df):\n",
    "    na_columns_ = [col for col in df.columns if df[col].isnull().sum() > 0 ]\n",
    "    n_miss = df[na_columns_].isnull().sum().sort_values(ascending=True)\n",
    "    ratio_ = (df[na_columns_].isnull().sum() / df.shape[0]*100).sort_values(ascending=True)\n",
    "    missing_df = pd.concat([n_miss, np.round(ratio_, 2)], axis =1, keys=[\"Missing Values\", \"Ratio\"])\n",
    "    missing_df = pd.DataFrame(missing_df)\n",
    "    return missing_df\n",
    "\n",
    "def check_dataframe(df, head=5, tail=5):\n",
    "\n",
    "    print(\"SHAPE\".center(82, '~'))\n",
    "    print('Rows: {}'.format(df.shape[0]))\n",
    "    print('columns: {}'.format(df.shape[1]))\n",
    "    print(\"TYPES\".center(82, '~'))\n",
    "    print(df.dtypes)\n",
    "    print(\"\".center(82, '~'))\n",
    "    print(missing_values_analysis(df))\n",
    "    print('DUPLICATED VALUES'.center(83, '~'))\n",
    "    print(df.duplicated().sum())\n",
    "    print(\"QUANTILES\".center(82,'~'))\n",
    "    print(df.quantile([0, 0.05, 0.50, 0.95, 0.99, 1]).T)\n",
    "\n",
    "check_dataframe(df)"
   ]
  },
  {
   "cell_type": "code",
   "execution_count": null,
   "id": "78683c53-ecbe-441b-80db-f0dba627cc2c",
   "metadata": {},
   "outputs": [],
   "source": [
    "def check_class(dataframe):\n",
    "    nunique_df = pd.DataFrame({'Variable': dataframe.columns,\n",
    "                               'Classes': [dataframe[i].nunique() \\ \n",
    "                                          for i in dataframe.columns]})\n",
    "    nunique_df = nunique_df.sort_values('Classes', ascending = False)\n",
    "    nunique_df = nunique_df.reset_index(drop = True)\n",
    "    return nunique_df\n",
    "check_class(df)\n",
    "    "
   ]
  },
  {
   "cell_type": "code",
   "execution_count": null,
   "id": "af7e3bce-897a-41e6-822b-5e2f51fee085",
   "metadata": {},
   "outputs": [],
   "source": [
    "constraints = ['#B34D22', '#EBE00C', '#1FEB0C', '#0C92EB', '#EB0CD5']\n",
    "def categorical_variable_summary(df, column_name):\n",
    "    fig = make_subplots(rows=1, cols=2,\n",
    "                       subplot_titles=('Countplot', 'Percentage'),\n",
    "                       specs=[[{\"types\": \"xy\"}, {'types': 'domain'}]])\n",
    "    fig.add_trace(go.Bar( y = df[column_name].value_counts().values.tolist(),\n",
    "                         x = [str(i) for i in df[column_name].value_counts().index],\n",
    "                         text = df[column_name].value_counts().values.tolist(),\n",
    "                         textfont = dict(size=14),\n",
    "                         name = column_name,\n",
    "                         textposition = 'auto',\n",
    "                         showlegend = False,\n",
    "                         marker = dict(color = constraints, line=(color='#DBE6EC',\n",
    "                                                                 width=1))),\n",
    "                  row = 1, col =1)\n",
    "    fig.add_trace(go.Pie(labels = df[column_name].value_counts().keys(),\n",
    "                        values = df[column_name].value_counts().values,\n",
    "                        textfont = dict(size = 18),\n",
    "                        textposition='auto',\n",
    "                        showlegend = False,\n",
    "                        name = column_name,\n",
    "                        marker = dict(colors = constraints)),\n",
    "                 row = 1, col = 2)\n",
    "    fig.update_layout(title={'text': column,\n",
    "                            'y': 0.9,\n",
    "                            'x': 0.5,\n",
    "                            'xanchor': 'center',\n",
    "                            'yanchor': 'top'},\n",
    "                     template = 'plotly_white')\n",
    "    iplot(fig)\n",
    "                "
   ]
  },
  {
   "cell_type": "code",
   "execution_count": null,
   "id": "fa2f3632-3360-4335-b9e0-415a963b9480",
   "metadata": {},
   "outputs": [],
   "source": [
    "categorical_variable_summary(df, 'overall')"
   ]
  },
  {
   "cell_type": "code",
   "execution_count": null,
   "id": "c597e61f-1231-4a42-99db-d7cf1d011c3f",
   "metadata": {},
   "outputs": [],
   "source": [
    "df.reviewText.head()"
   ]
  },
  {
   "cell_type": "code",
   "execution_count": null,
   "id": "f8e4e205-c17a-48c9-9581-18900ebfdb22",
   "metadata": {},
   "outputs": [],
   "source": [
    "review_example = df.reviewText[2031]\n",
    "review_example"
   ]
  },
  {
   "cell_type": "code",
   "execution_count": null,
   "id": "24ad699b-38f5-49e3-acc3-754a6a465022",
   "metadata": {},
   "outputs": [],
   "source": [
    "review_example = re.sub(\"[^a-zA-Z]\", '',review_example)\n",
    "review_example"
   ]
  },
  {
   "cell_type": "code",
   "execution_count": null,
   "id": "3e2ec6fe-cff5-44cb-8399-9ed290c1d706",
   "metadata": {},
   "outputs": [],
   "source": [
    "review_example = review_example.lower().split()"
   ]
  },
  {
   "cell_type": "code",
   "execution_count": null,
   "id": "3bad9a5f-ef01-40ec-beb6-1b0811d1a6f2",
   "metadata": {},
   "outputs": [],
   "source": [
    "review_example"
   ]
  },
  {
   "cell_type": "code",
   "execution_count": null,
   "id": "fd25c7b5-a76a-4eee-bbd6-3d505c279b73",
   "metadata": {},
   "outputs": [],
   "source": [
    "rt = lambda x: re.sub(\"[^a-zA-Z]\", ' ',str(x))\n",
    "df[\"reviewText\"] = df[\"reviewText\"].map(rt)\n",
    "df[\"reviewText\"] = df[\"reviewText\"].str.lower()\n",
    "df.head()"
   ]
  },
  {
   "cell_type": "code",
   "execution_count": null,
   "id": "468ab993-34d5-43a6-b891-163bb994a98e",
   "metadata": {},
   "outputs": [],
   "source": [
    "from vaderSentiment.vaderSentiment import SentimentIntensityAnalyzer\n",
    "df[['polarity', 'subjectivity']] = df['reviewText'].apply(lambda Text:pd.Series(TextBlob(Text).sentiment))\n",
    "\n",
    "for index, row in df['reviewText'].iteritems():\n",
    "    score = SentimentIntensityAnalyzer().polarity_scores(row)\n",
    "    neg = score['neg']\n",
    "    neu = score['neu']\n",
    "    pos = score['pos']\n",
    "    if neg > pos:\n",
    "        df.loc[index, 'sentiment'] = \"Negative\"\n",
    "    elif pos > neg:\n",
    "        df.loc[index, 'sentiment'] = \"Positive\"\n",
    "    else:\n",
    "        df.loc[index, 'sentiment'] = \"Neutral\""
   ]
  },
  {
   "cell_type": "code",
   "execution_count": null,
   "id": "83936b2d-0af6-48ac-a151-ada0c5019dad",
   "metadata": {},
   "outputs": [],
   "source": [
    "df[df['sentiment'] == \"Positive\"].sort_values(\"wilson_lower_bound\",\n",
    "                                              ascending = False).head(5)"
   ]
  },
  {
   "cell_type": "code",
   "execution_count": null,
   "id": "b7c05022-958a-4bb2-89f3-3747f0fd05a1",
   "metadata": {},
   "outputs": [],
   "source": [
    "categorical_variable_summary(df, 'sentiment')"
   ]
  }
 ],
 "metadata": {
  "kernelspec": {
   "display_name": "Python 3 (ipykernel)",
   "language": "python",
   "name": "python3"
  },
  "language_info": {
   "codemirror_mode": {
    "name": "ipython",
    "version": 3
   },
   "file_extension": ".py",
   "mimetype": "text/x-python",
   "name": "python",
   "nbconvert_exporter": "python",
   "pygments_lexer": "ipython3",
   "version": "3.10.5"
  }
 },
 "nbformat": 4,
 "nbformat_minor": 5
}
